{
 "cells": [
  {
   "cell_type": "code",
   "execution_count": null,
   "metadata": {},
   "outputs": [],
   "source": [
    "%run ../notebook_preamble.ipy"
   ]
  },
  {
   "cell_type": "code",
   "execution_count": null,
   "metadata": {},
   "outputs": [],
   "source": [
    "import ast\n",
    "from datetime import date\n",
    "from collections import Counter, defaultdict\n",
    "import networkx as nx\n",
    "import itertools\n",
    "import community\n",
    "import seaborn as sns\n",
    "from sqlalchemy import create_engine\n",
    "from sqlalchemy.orm import sessionmaker\n",
    "from matplotlib.colors import ListedColormap\n",
    "from ci_mapping.data.mag_orm import (Paper, \n",
    "                                     Author,\n",
    "                                     AuthorAffiliation,\n",
    "                                     Affiliation,\n",
    "                                     AffiliationLocation,\n",
    "                                     PaperAuthor,\n",
    "                                     FieldOfStudy,\n",
    "                                     PaperFieldsOfStudy,\n",
    "                                     Conference,\n",
    "                                     Journal, \n",
    "                                     CoreControlGroup)\n",
    "\n",
    "plt.style.use('seaborn-colorblind')"
   ]
  },
  {
   "cell_type": "code",
   "execution_count": null,
   "metadata": {},
   "outputs": [],
   "source": [
    "# Read the configuration file and create a session.\n",
    "db_config = 'postgres+psycopg2://postgres@localhost/ai_ci'\n",
    "engine = create_engine(db_config)\n",
    "Session = sessionmaker(engine)\n",
    "s = Session()\n",
    "\n",
    "# Read MAG data\n",
    "mag = pd.read_sql(s.query(Paper).statement, s.bind)\n",
    "\n",
    "# Read AI, AICI, CI group assignment\n",
    "groups = pd.read_sql(s.query(CoreControlGroup).statement, s.bind)\n",
    "\n",
    "# Merge group assignment with papers\n",
    "mag = mag.merge(groups, left_on='id', right_on='id')\n",
    "\n",
    "print(f'MAG data shape: {mag.shape}')"
   ]
  },
  {
   "cell_type": "markdown",
   "metadata": {},
   "source": [
    "## Annual publications and Annual publication increase"
   ]
  },
  {
   "cell_type": "code",
   "execution_count": null,
   "metadata": {},
   "outputs": [],
   "source": [
    "def annual_publications(df, group, base=False):\n",
    "    if base:\n",
    "        return df[df.type==group].groupby('year')['id'].count() / df[df.type==group].groupby('year')['id'].count().iloc[0]\n",
    "    else:\n",
    "        return df[df.type==group].groupby('year')['id'].count()"
   ]
  },
  {
   "cell_type": "code",
   "execution_count": null,
   "metadata": {},
   "outputs": [],
   "source": [
    "ci = annual_publications(mag, 'ci')\n",
    "ai = annual_publications(mag, 'ai')\n",
    "ai_ci = annual_publications(mag, 'ai_ci')"
   ]
  },
  {
   "cell_type": "code",
   "execution_count": null,
   "metadata": {},
   "outputs": [],
   "source": [
    "f, (ax1, ax2) = plt.subplots(ncols=2, figsize=(15,6))\n",
    "\n",
    "# ax1\n",
    "ci = np.log(annual_publications(mag, 'ci'))\n",
    "ai = np.log(annual_publications(mag, 'ai'))\n",
    "ai_ci = np.log(annual_publications(mag, 'ai_ci'))\n",
    "\n",
    "ai.plot(ax=ax1, label='AI')\n",
    "ci.plot(ax=ax1, label='CI')\n",
    "ai_ci.plot(ax=ax1, label='AI/CI')\n",
    "ax1.legend(fontsize=10)\n",
    "ax1.set_title('Annual publications', fontsize=14)\n",
    "ax1.set_xlabel('Year', fontsize=12)\n",
    "ax1.set_ylabel('Publications (log scale)', fontsize=12)\n",
    "\n",
    "# ax2\n",
    "ci = annual_publications(mag, 'ci', base=True)\n",
    "ai = annual_publications(mag, 'ai', base=True)\n",
    "ai_ci = annual_publications(mag, 'ai_ci', base=True)\n",
    "\n",
    "ai.plot(ax=ax2, label='AI')\n",
    "ci.plot(ax=ax2, label='CI')\n",
    "ai_ci.plot(ax=ax2, label='AI/CI')\n",
    "ax2.legend(fontsize=10)\n",
    "ax2.set_title('Annual publication increase (base year = 2000)', fontsize=14)\n",
    "ax2.set_xlabel('Year', fontsize=12)\n",
    "ax2.set_ylabel('Increase', fontsize=12)\n",
    "\n",
    "f.tight_layout()\n",
    "plt.show()"
   ]
  },
  {
   "cell_type": "markdown",
   "metadata": {},
   "source": [
    "## Overlap of conferences and journals"
   ]
  },
  {
   "cell_type": "code",
   "execution_count": null,
   "metadata": {},
   "outputs": [],
   "source": [
    "# Read journals\n",
    "journal = pd.read_sql(s.query(Journal).statement, s.bind)\n",
    "print(f'Journals data shape: {journal.shape}')\n",
    "\n",
    "# Read conferences\n",
    "conferences = pd.read_sql(s.query(Conference).statement, s.bind)\n",
    "print(f'Conferences data shape: {conferences.shape}')"
   ]
  },
  {
   "cell_type": "code",
   "execution_count": null,
   "metadata": {},
   "outputs": [],
   "source": [
    "def jaccard_similarity(list1, list2):\n",
    "    s1 = set(list1)\n",
    "    s2 = set(list2)\n",
    "    return len(s1.intersection(s2)) / len(s1.union(s2)) * 100"
   ]
  },
  {
   "cell_type": "code",
   "execution_count": null,
   "metadata": {},
   "outputs": [],
   "source": [
    "def overlap(type):\n",
    "    d = defaultdict(list)\n",
    "    for year in sorted(ai.year.unique()):\n",
    "        d['overlap'].append('AI | CI')\n",
    "        d['year'].append(year)\n",
    "        d['score'].append(jaccard_similarity(ai[ai.year==year][type], ci[ci.year==year][type]))\n",
    "\n",
    "        d['overlap'].append('AI | AI/CI')\n",
    "        d['year'].append(year)\n",
    "        d['score'].append(jaccard_similarity(ai[ai.year==year][type], ai_ci[ai_ci.year==year][type]))\n",
    "\n",
    "        d['overlap'].append('CI | AI/CI')\n",
    "        d['year'].append(year)\n",
    "        d['score'].append(jaccard_similarity(ci[ci.year==year][type], ai_ci[ai_ci.year==year][type]))\n",
    "        \n",
    "    return pd.DataFrame.from_dict(d).set_index('year')"
   ]
  },
  {
   "cell_type": "code",
   "execution_count": null,
   "metadata": {},
   "outputs": [],
   "source": [
    "ai = mag[mag.type=='ai'].merge(journal, left_on='id', right_on='paper_id')\n",
    "ci = mag[mag.type=='ci'].merge(journal, left_on='id', right_on='paper_id')\n",
    "ai_ci = mag[mag.type=='ai_ci'].merge(journal, left_on='id', right_on='paper_id')\n",
    "\n",
    "journal_overlap = overlap('journal_name')\n",
    "\n",
    "ai = mag[mag.type=='ai'].merge(conferences, left_on='id', right_on='paper_id')\n",
    "ci = mag[mag.type=='ci'].merge(conferences, left_on='id', right_on='paper_id')\n",
    "ai_ci = mag[mag.type=='ai_ci'].merge(conferences, left_on='id', right_on='paper_id')\n",
    "\n",
    "conference_overlap = overlap('conference_name')"
   ]
  },
  {
   "cell_type": "code",
   "execution_count": null,
   "metadata": {},
   "outputs": [],
   "source": [
    "f, (ax1, ax2) = plt.subplots(ncols=2, figsize=(15,6))\n",
    "\n",
    "# ax1\n",
    "journal_overlap[journal_overlap.overlap=='AI | CI'].plot(label='AI | CI', ax=ax1)\n",
    "journal_overlap[journal_overlap.overlap=='AI | AI/CI'].plot(label='AI | AI/CI', ax=ax1)\n",
    "journal_overlap[journal_overlap.overlap=='CI | AI/CI'].plot(label='CI | AI/CI', ax=ax1)\n",
    "ax1.legend(['AI | CI', 'AI | AI/CI', 'CI | AI/CI'], fontsize=10)\n",
    "ax1.set_title('Overlapping AI, AI/CI and CI journals', fontsize=14)\n",
    "ax1.set_xlabel('Year', fontsize=12)\n",
    "ax1.set_ylabel('Jaccard Similarity (%)', fontsize=12)\n",
    "\n",
    "# ax2\n",
    "conference_overlap[conference_overlap.overlap=='AI | CI'].plot(label='AI | CI', ax=ax2)\n",
    "conference_overlap[conference_overlap.overlap=='AI | AI/CI'].plot(label='AI | AI/CI', ax=ax2)\n",
    "conference_overlap[conference_overlap.overlap=='CI | AI/CI'].plot(label='CI | AI/CI', ax=ax2)\n",
    "ax2.legend(['AI | CI', 'AI | AI/CI', 'CI | AI/CI'], fontsize=10)\n",
    "ax2.set_title('Overlapping AI, AI/CI and CI conferences', fontsize=14)\n",
    "ax2.set_xlabel('Year', fontsize=12)\n",
    "ax2.set_ylabel('Jaccard Similarity (%)', fontsize=12)\n",
    "\n",
    "f.tight_layout()\n",
    "plt.show()"
   ]
  },
  {
   "cell_type": "markdown",
   "metadata": {},
   "source": [
    "## CI and AI/CI conference and journal count"
   ]
  },
  {
   "cell_type": "code",
   "execution_count": null,
   "metadata": {},
   "outputs": [],
   "source": [
    "def year2period(val):\n",
    "    if val in ['2000', '2001', '2002', '2003', '2004', '2005']:\n",
    "        return '2000-2005'\n",
    "    elif val in ['2006', '2007', '2008', '2009', '2010']:\n",
    "        return '2006-2010'\n",
    "    elif val in ['2011', '2012', '2013', '2014', '2015']:\n",
    "        return '2011-2015'\n",
    "    else:\n",
    "        return '2016-2020'"
   ]
  },
  {
   "cell_type": "code",
   "execution_count": null,
   "metadata": {},
   "outputs": [],
   "source": [
    "f, (ax1, ax2) = plt.subplots(ncols=2, figsize=(15, 6))\n",
    "\n",
    "# ax1\n",
    "ci_conferences = mag[mag.type=='ci'].merge(conferences, left_on='id', right_on='paper_id')\n",
    "ci_conferences['period'] = ci_conferences.year.apply(year2period)\n",
    "idx = []\n",
    "for p in sorted(ci_conferences.period.unique()):\n",
    "    for conf in ci_conferences.groupby(['period', 'conference_name'])['paper_id'].count().loc[p].sort_values(ascending=False).index[:5]:\n",
    "        idx.append(tuple((p, conf)))\n",
    "\n",
    "(ci_conferences\n",
    " .groupby(['period', 'conference_name'])['paper_id']\n",
    " .count()\n",
    " .loc[idx]\n",
    " .unstack('conference_name')).plot(kind='bar', stacked=True, cmap='PuBu_r', ax=ax1, rot=0)\n",
    "ax1.legend(fontsize=10)\n",
    "ax1.set_title('CI Conferences', fontsize=14)\n",
    "ax1.set_xlabel('Time period', fontsize=12)\n",
    "ax1.set_ylabel('Count', fontsize=12)\n",
    "\n",
    "# ax2\n",
    "ci_journals = mag[mag.type=='ci'].merge(journal, left_on='id', right_on='paper_id')\n",
    "ci_journals['period'] = ci_journals.year.apply(year2period)\n",
    "idx = []\n",
    "for p in sorted(ci_journals.period.unique()):\n",
    "    for j in ci_journals.groupby(['period', 'journal_name'])['paper_id'].count().loc[p].sort_values(ascending=False).index[:5]:\n",
    "        idx.append(tuple((p, j)))\n",
    "\n",
    "(ci_journals\n",
    " .groupby(['period', 'journal_name'])['paper_id']\n",
    " .count()\n",
    " .loc[idx]\n",
    " .unstack('journal_name')).plot(kind='bar', stacked=True, cmap='PuBu_r', ax=ax2, rot=0)\n",
    "ax2.legend(fontsize=10)\n",
    "ax2.set_title('CI Journals', fontsize=14)\n",
    "ax2.set_xlabel('Time period', fontsize=12)\n",
    "ax2.set_ylabel('Count', fontsize=12)\n",
    "\n",
    "f.tight_layout()\n",
    "plt.show()"
   ]
  },
  {
   "cell_type": "code",
   "execution_count": null,
   "metadata": {},
   "outputs": [],
   "source": [
    "f, (ax1, ax2) = plt.subplots(ncols=2, figsize=(15, 6))\n",
    "\n",
    "# ax1\n",
    "ai_ci_conferences = mag[mag.type=='ai_ci'].merge(conferences, left_on='id', right_on='paper_id')\n",
    "ai_ci_conferences['period'] = ai_ci_conferences.year.apply(year2period)\n",
    "idx = []\n",
    "for p in sorted(ai_ci_conferences.period.unique()):\n",
    "    for conf in ai_ci_conferences.groupby(['period', 'conference_name'])['paper_id'].count().loc[p].sort_values(ascending=False).index[:5]:\n",
    "        idx.append(tuple((p, conf)))\n",
    "\n",
    "(ai_ci_conferences\n",
    " .groupby(['period', 'conference_name'])['paper_id']\n",
    " .count()\n",
    " .loc[idx]\n",
    " .unstack('conference_name')).plot(kind='bar', stacked=True, cmap='PuBu_r', ax=ax1, rot=0)\n",
    "ax1.legend(fontsize=10)\n",
    "ax1.set_title('AI/CI Conferences', fontsize=14)\n",
    "ax1.set_xlabel('Time period', fontsize=12)\n",
    "ax1.set_ylabel('Count', fontsize=12)\n",
    "\n",
    "# ax2\n",
    "ai_ci_journals = mag[mag.type=='ai_ci'].merge(journal, left_on='id', right_on='paper_id')\n",
    "ai_ci_journals['period'] = ai_ci_journals.year.apply(year2period)\n",
    "idx = []\n",
    "for p in sorted(ai_ci_journals.period.unique()):\n",
    "    for j in ai_ci_journals.groupby(['period', 'journal_name'])['paper_id'].count().loc[p].sort_values(ascending=False).index[:5]:\n",
    "        idx.append(tuple((p, j)))\n",
    "\n",
    "(ai_ci_journals\n",
    " .groupby(['period', 'journal_name'])['paper_id']\n",
    " .count()\n",
    " .loc[idx]\n",
    " .unstack('journal_name')).plot(kind='bar', stacked=True, cmap='PuBu_r', ax=ax2, rot=0)\n",
    "ax2.legend(fontsize=10)\n",
    "ax2.set_title('AI/CI Journals', fontsize=14)\n",
    "ax2.set_xlabel('Time period', fontsize=12)\n",
    "ax2.set_ylabel('Count', fontsize=12)\n",
    "\n",
    "f.tight_layout()\n",
    "plt.show()"
   ]
  },
  {
   "cell_type": "markdown",
   "metadata": {},
   "source": [
    "# Affiliations"
   ]
  },
  {
   "cell_type": "code",
   "execution_count": null,
   "metadata": {},
   "outputs": [],
   "source": [
    "affiliations =  pd.read_sql(s.query(Affiliation).statement, s.bind)\n",
    "author_aff =  pd.read_sql(s.query(AuthorAffiliation).statement, s.bind)\n",
    "location =  pd.read_sql(s.query(AffiliationLocation).statement, s.bind)"
   ]
  },
  {
   "cell_type": "code",
   "execution_count": null,
   "metadata": {},
   "outputs": [],
   "source": [
    "aff = (author_aff\n",
    "       .merge(groups, left_on='paper_id', right_on='id')\n",
    "       .merge(affiliations, left_on='affiliation_id', right_on='id')\n",
    "       .merge(location, left_on='affiliation_id', right_on='affiliation_id')\n",
    "       .merge(mag[['id', 'citations']], left_on='paper_id', right_on='id')\n",
    "      )[['affiliation_id', 'country', 'paper_id', 'type', 'affiliation', 'citations']].drop_duplicates(['affiliation_id', 'paper_id'])"
   ]
  },
  {
   "cell_type": "markdown",
   "metadata": {},
   "source": [
    "### Share of publications in affiliations and countries"
   ]
  },
  {
   "cell_type": "code",
   "execution_count": null,
   "metadata": {},
   "outputs": [],
   "source": [
    "f, (ax1, ax2) = plt.subplots(nrows=2, figsize=(15,8))\n",
    "\n",
    "# ax1\n",
    "ai_ci = ((aff.groupby(['type', 'affiliation'])['paper_id'].count().loc['ai_ci'].sort_values(ascending=False) / aff[aff.type=='ai_ci'].shape[0]) * 100)\n",
    "ci = (aff.groupby(['type', 'affiliation'])['paper_id'].count().loc['ci'].sort_values(ascending=False) / aff[aff.type=='ci'].shape[0]) * 100\n",
    "ai = (aff.groupby(['type', 'affiliation'])['paper_id'].count().loc['ai'].sort_values(ascending=False) / aff[aff.type=='ai'].shape[0]) * 100\n",
    "\n",
    "idx = list(ai_ci.index[:15])\n",
    "idx.extend(ci.index[:15])\n",
    "idx.extend(ai.index[:15])\n",
    "\n",
    "df = pd.concat([ai_ci, ci, ai], axis=1, sort=False).loc[set(idx)]\n",
    "df.columns = ['AI/CI', 'CI', 'AI']\n",
    "df.sort_values('AI/CI', ascending=False).plot(kind='bar', ax=ax1)\n",
    "ax1.legend(fontsize=10)\n",
    "ax1.set_title('Share of publications in affiliations', fontsize=14)\n",
    "ax1.set_xlabel('Affiliation', fontsize=12)\n",
    "ax1.set_ylabel('(%)', fontsize=12)\n",
    "\n",
    "# ax2\n",
    "ai_ci = ((aff.groupby(['type', 'country'])['paper_id'].count().loc['ai_ci'].sort_values(ascending=False) / aff[aff.type=='ai_ci'].shape[0]) * 100)\n",
    "ci = (aff.groupby(['type', 'country'])['paper_id'].count().loc['ci'].sort_values(ascending=False) / aff[aff.type=='ci'].shape[0]) * 100\n",
    "ai = (aff.groupby(['type', 'country'])['paper_id'].count().loc['ai'].sort_values(ascending=False) / aff[aff.type=='ai'].shape[0]) * 100\n",
    "\n",
    "idx = list(ai_ci.index[:15])\n",
    "idx.extend(ci.index[:15])\n",
    "idx.extend(ai.index[:15])\n",
    "\n",
    "df = pd.concat([ai_ci, ci, ai], axis=1, sort=False).loc[set(idx)]\n",
    "df.columns = ['AI/CI', 'CI', 'AI']\n",
    "df.sort_values('AI/CI', ascending=False).plot(kind='bar', ax=ax2)\n",
    "ax2.legend(fontsize=10)\n",
    "ax2.set_title('Share of publications in countries', fontsize=14)\n",
    "ax2.set_xlabel('Country', fontsize=12)\n",
    "ax2.set_ylabel('(%)', fontsize=12)\n",
    "\n",
    "f.tight_layout()\n",
    "plt.show()"
   ]
  },
  {
   "cell_type": "markdown",
   "metadata": {},
   "source": [
    "### Share of citations in affiliations and countries"
   ]
  },
  {
   "cell_type": "code",
   "execution_count": null,
   "metadata": {},
   "outputs": [],
   "source": [
    "f, (ax1, ax2) = plt.subplots(nrows=2, figsize=(15,8))\n",
    "\n",
    "# ax1\n",
    "ai_ci = ((aff.groupby(['type', 'affiliation'])['citations'].sum().loc['ai_ci'].sort_values(ascending=False) / aff[aff.type=='ai_ci'].citations.sum()) * 100)\n",
    "ci = (aff.groupby(['type', 'affiliation'])['citations'].sum().loc['ci'].sort_values(ascending=False) / aff[aff.type=='ci'].citations.sum()) * 100\n",
    "ai = (aff.groupby(['type', 'affiliation'])['citations'].sum().loc['ai'].sort_values(ascending=False) / aff[aff.type=='ai'].citations.sum()) * 100\n",
    "\n",
    "idx = list(ai_ci.index[:15])\n",
    "idx.extend(ci.index[:15])\n",
    "idx.extend(ai.index[:15])\n",
    "\n",
    "df = pd.concat([ai_ci, ci, ai], axis=1, sort=False).loc[set(idx)]\n",
    "df.columns = ['AI/CI', 'CI', 'AI']\n",
    "df.sort_values('AI/CI', ascending=False).plot(kind='bar', ax=ax1)\n",
    "ax1.legend(fontsize=10)\n",
    "ax1.set_title('Share of publications in affiliations', fontsize=14)\n",
    "ax1.set_xlabel('Affiliation', fontsize=12)\n",
    "ax1.set_ylabel('(%)', fontsize=12)\n",
    "\n",
    "# ax2\n",
    "ai_ci = ((aff.groupby(['type', 'country'])['paper_id'].count().loc['ai_ci'].sort_values(ascending=False) / aff[aff.type=='ai_ci'].shape[0]) * 100)\n",
    "ci = (aff.groupby(['type', 'country'])['paper_id'].count().loc['ci'].sort_values(ascending=False) / aff[aff.type=='ci'].shape[0]) * 100\n",
    "ai = (aff.groupby(['type', 'country'])['paper_id'].count().loc['ai'].sort_values(ascending=False) / aff[aff.type=='ai'].shape[0]) * 100\n",
    "\n",
    "idx = list(ai_ci.index[:15])\n",
    "idx.extend(ci.index[:15])\n",
    "idx.extend(ai.index[:15])\n",
    "\n",
    "df = pd.concat([ai_ci, ci, ai], axis=1, sort=False).loc[set(idx)]\n",
    "df.columns = ['AI/CI', 'CI', 'AI']\n",
    "df.sort_values('AI/CI', ascending=False).plot(kind='bar', ax=ax2)\n",
    "ax2.legend(fontsize=10)\n",
    "ax2.set_title('Share of publications in countries', fontsize=14)\n",
    "ax2.set_xlabel('Country', fontsize=12)\n",
    "ax2.set_ylabel('(%)', fontsize=12)\n",
    "\n",
    "f.tight_layout()\n",
    "plt.show()"
   ]
  },
  {
   "cell_type": "code",
   "execution_count": null,
   "metadata": {},
   "outputs": [],
   "source": []
  }
 ],
 "metadata": {
  "language_info": {
   "name": "python",
   "pygments_lexer": "ipython3"
  }
 },
 "nbformat": 4,
 "nbformat_minor": 4
}
